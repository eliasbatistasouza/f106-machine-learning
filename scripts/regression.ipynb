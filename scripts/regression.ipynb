{
 "cells": [
  {
   "cell_type": "markdown",
   "id": "7f8134e8",
   "metadata": {},
   "source": [
    "# Imports"
   ]
  },
  {
   "cell_type": "code",
   "execution_count": null,
   "id": "7f9a542a",
   "metadata": {},
   "outputs": [],
   "source": [
    "import pathlib\n",
    "\n",
    "import matplotlib.pyplot as plt\n",
    "import numpy as np\n",
    "import pandas as pd\n",
    "from sklearn.linear_model import LinearRegression\n",
    "from sklearn.metrics import mean_absolute_error, mean_squared_error\n",
    "from sklearn.model_selection import train_test_split"
   ]
  },
  {
   "cell_type": "markdown",
   "id": "a424bcee",
   "metadata": {},
   "source": [
    "# Carregar Dados"
   ]
  },
  {
   "cell_type": "code",
   "execution_count": null,
   "id": "5a2dc9a6",
   "metadata": {},
   "outputs": [
    {
     "data": {
      "application/vnd.microsoft.datawrangler.viewer.v0+json": {
       "columns": [
        {
         "name": "index",
         "rawType": "int64",
         "type": "integer"
        },
        {
         "name": "velocidade_vento",
         "rawType": "float64",
         "type": "float"
        },
        {
         "name": "potencia_gerada",
         "rawType": "int64",
         "type": "integer"
        }
       ],
       "ref": "7e27588a-8232-41db-aec3-32de5baf8458",
       "rows": [
        [
         "1076",
         "8.8",
         "262"
        ],
        [
         "112",
         "7.0",
         "154"
        ],
        [
         "1621",
         "9.9",
         "340"
        ],
        [
         "1694",
         "10.2",
         "376"
        ],
        [
         "1948",
         "11.2",
         "456"
        ]
       ],
       "shape": {
        "columns": 2,
        "rows": 5
       }
      },
      "text/html": [
       "<div>\n",
       "<style scoped>\n",
       "    .dataframe tbody tr th:only-of-type {\n",
       "        vertical-align: middle;\n",
       "    }\n",
       "\n",
       "    .dataframe tbody tr th {\n",
       "        vertical-align: top;\n",
       "    }\n",
       "\n",
       "    .dataframe thead th {\n",
       "        text-align: right;\n",
       "    }\n",
       "</style>\n",
       "<table border=\"1\" class=\"dataframe\">\n",
       "  <thead>\n",
       "    <tr style=\"text-align: right;\">\n",
       "      <th></th>\n",
       "      <th>velocidade_vento</th>\n",
       "      <th>potencia_gerada</th>\n",
       "    </tr>\n",
       "  </thead>\n",
       "  <tbody>\n",
       "    <tr>\n",
       "      <th>1076</th>\n",
       "      <td>8.8</td>\n",
       "      <td>262</td>\n",
       "    </tr>\n",
       "    <tr>\n",
       "      <th>112</th>\n",
       "      <td>7.0</td>\n",
       "      <td>154</td>\n",
       "    </tr>\n",
       "    <tr>\n",
       "      <th>1621</th>\n",
       "      <td>9.9</td>\n",
       "      <td>340</td>\n",
       "    </tr>\n",
       "    <tr>\n",
       "      <th>1694</th>\n",
       "      <td>10.2</td>\n",
       "      <td>376</td>\n",
       "    </tr>\n",
       "    <tr>\n",
       "      <th>1948</th>\n",
       "      <td>11.2</td>\n",
       "      <td>456</td>\n",
       "    </tr>\n",
       "  </tbody>\n",
       "</table>\n",
       "</div>"
      ],
      "text/plain": [
       "      velocidade_vento  potencia_gerada\n",
       "1076               8.8              262\n",
       "112                7.0              154\n",
       "1621               9.9              340\n",
       "1694              10.2              376\n",
       "1948              11.2              456"
      ]
     },
     "execution_count": 6,
     "metadata": {},
     "output_type": "execute_result"
    }
   ],
   "source": [
    "path = pathlib.Path.cwd().parent / \"data\" / \"aerogerador.dat\"\n",
    "\n",
    "df = pd.read_csv(\n",
    "    path,\n",
    "    sep=r\"\\s+\",\n",
    "    header=None,\n",
    "    names=[\"velocidade_vento\", \"potencia_gerada\"],\n",
    ")\n",
    "\n",
    "df.sample(5)"
   ]
  },
  {
   "cell_type": "markdown",
   "id": "21f7e50c",
   "metadata": {},
   "source": [
    "# Gráfico de Dispersão"
   ]
  },
  {
   "cell_type": "code",
   "execution_count": 7,
   "id": "6f51f1bd",
   "metadata": {},
   "outputs": [
    {
     "data": {
      "text/plain": [
       "<matplotlib.collections.PathCollection at 0x7aab65f4ed80>"
      ]
     },
     "execution_count": 7,
     "metadata": {},
     "output_type": "execute_result"
    },
    {
     "data": {
      "image/png": "[encoded data removed]",
      "text/plain": [
       "<Figure size 640x480 with 1 Axes>"
      ]
     },
     "metadata": {},
     "output_type": "display_data"
    }
   ],
   "source": [
    "plt.scatter(df[\"velocidade_vento\"], df[\"potencia_gerada\"])"
   ]
  },
  {
   "cell_type": "markdown",
   "id": "deea903e",
   "metadata": {},
   "source": [
    "- Adicionar análise sobre os dados"
   ]
  },
  {
   "cell_type": "markdown",
   "id": "7ab31227",
   "metadata": {},
   "source": [
    "# Separação dos Dados"
   ]
  },
  {
   "cell_type": "code",
   "execution_count": 8,
   "id": "9fa82144",
   "metadata": {},
   "outputs": [],
   "source": [
    "features = df[[\"velocidade_vento\"]]\n",
    "target = df[\"potencia_gerada\"]"
   ]
  },
  {
   "cell_type": "markdown",
   "id": "b4345a71",
   "metadata": {},
   "source": [
    "# Modelo"
   ]
  },
  {
   "cell_type": "code",
   "execution_count": 9,
   "id": "323adaa2",
   "metadata": {},
   "outputs": [
    {
     "name": "stdout",
     "output_type": "stream",
     "text": [
      "Iteração 500/500"
     ]
    }
   ],
   "source": [
    "mse_scores = []\n",
    "mae_scores = []\n",
    "\n",
    "i = 500\n",
    "\n",
    "for j in range(i):\n",
    "    print(f\"\\rIteração {j + 1}/{i}\", end=\"\")\n",
    "\n",
    "    # Separar dados entre treino e teste\n",
    "    X_treino, X_teste, y_treino, y_teste = train_test_split(\n",
    "        features, target, test_size=0.2, random_state=None\n",
    "    )\n",
    "\n",
    "    # Treinar modelo\n",
    "    reg = LinearRegression().fit(X_treino, y_treino)\n",
    "\n",
    "    # Testar modelo\n",
    "    y_pred = reg.predict(X_teste)\n",
    "\n",
    "    # Avaliar modelo\n",
    "    mse = mean_squared_error(y_teste, y_pred)\n",
    "    mae = mean_absolute_error(y_teste, y_pred)\n",
    "\n",
    "    # Adicionar métricas em array\n",
    "    mse_scores.append(mse)\n",
    "    mae_scores.append(mae)"
   ]
  },
  {
   "cell_type": "markdown",
   "id": "dbf832e9",
   "metadata": {
    "vscode": {
     "languageId": "bat"
    }
   },
   "source": [
    "# Calcular Métricas"
   ]
  },
  {
   "cell_type": "code",
   "execution_count": 10,
   "id": "0d8ea057",
   "metadata": {},
   "outputs": [],
   "source": [
    "# Média\n",
    "mean_mse = np.mean(mse_scores)\n",
    "mean_mae = np.mean(mae_scores)\n",
    "\n",
    "# Desvio Padrão\n",
    "std_mse = np.std(mse_scores)\n",
    "std_mae = np.std(mae_scores)\n",
    "\n",
    "# Valor Máximo\n",
    "max_mse = np.max(mse_scores)\n",
    "max_mae = np.max(mae_scores)\n",
    "\n",
    "# Valor Mínimo\n",
    "min_mse = np.min(mse_scores)\n",
    "min_mae = np.min(mae_scores)"
   ]
  },
  {
   "cell_type": "code",
   "execution_count": 11,
   "id": "1c4fd855",
   "metadata": {},
   "outputs": [
    {
     "name": "stdout",
     "output_type": "stream",
     "text": [
      "          Média  Desvio Padrão  Valor Máximo  Valor Mínimo\n",
      "MSE  789.454438     159.773160   1291.912156    431.068140\n",
      "MAE   18.344622       0.782364     20.405431     16.370318\n"
     ]
    }
   ],
   "source": [
    "# Crie um dataframe com os resultados\n",
    "dados = {\n",
    "    \"Métrica\": [\"MSE\", \"MAE\"],\n",
    "    \"Média\": [mean_mse, mean_mae],\n",
    "    \"Desvio Padrão\": [std_mse, std_mae],\n",
    "    \"Valor Máximo\": [max_mse, max_mae],\n",
    "    \"Valor Mínimo\": [min_mse, min_mae],\n",
    "}\n",
    "\n",
    "df_resultados = pd.DataFrame(dados).set_index(\"Métrica\")\n",
    "df_resultados.index.name = None\n",
    "print(df_resultados)"
   ]
  }
 ],
 "metadata": {
  "kernelspec": {
   "display_name": "unifor",
   "language": "python",
   "name": "python3"
  },
  "language_info": {
   "codemirror_mode": {
    "name": "ipython",
    "version": 3
   },
   "file_extension": ".py",
   "mimetype": "text/x-python",
   "name": "python",
   "nbconvert_exporter": "python",
   "pygments_lexer": "ipython3",
   "version": "3.12.8"
  }
 },
 "nbformat": 4,
 "nbformat_minor": 5
}
